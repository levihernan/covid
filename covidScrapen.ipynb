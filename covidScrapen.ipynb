{
 "cells": [
  {
   "cell_type": "code",
   "execution_count": 1,
   "metadata": {},
   "outputs": [],
   "source": [
    "import requests\n",
    "from lxml import html\n",
    "import pandas as pd\n",
    "import numpy as np\n",
    "from pymaran import gSheets,mail\n",
    "import datetime\n",
    "\n"
   ]
  },
  {
   "cell_type": "code",
   "execution_count": 18,
   "metadata": {},
   "outputs": [],
   "source": [
    "def scrap2sheet(url, \n",
    "                xPath='//*[@id=\"main\"]/div[1]/table/*', \n",
    "                tableElement=2, \n",
    "                autoDate=True, \n",
    "                manualDate='', \n",
    "                n_cols = 5):\n",
    "    global tree\n",
    "    \n",
    "    ### https://www.rki.de/DE/Content/InfAZ/N/Neuartiges_Coronavirus/Fallzahlen.html\n",
    "    pageContent=requests.get(url)\n",
    "    tree = html.fromstring(pageContent.content)\n",
    "    table = tree.xpath(xPath)\n",
    "    tbody = table[tableElement]\n",
    "    df_col = range(n_cols)\n",
    "    #df_col = ['city','total_cases','daily_cases','cases_per_M','total_deaths','']\n",
    "    df = pd.DataFrame(columns=df_col)\n",
    "    count = 0\n",
    "    for tr in tbody:\n",
    "        temp_data = []\n",
    "        for td in tr:\n",
    "            print(td.text_content())\n",
    "            temp_data.append(td.text_content())\n",
    "        df.loc[count] = temp_data\n",
    "        count += 1\n",
    "    if autoDate:\n",
    "        df.loc[:,'date'] = datetime.date.today()\n",
    "        df['date'] = df['date'].astype(str)\n",
    "    else:\n",
    "        df['date'] = manualDate\n",
    "    sheet = gSheets.readSheet('covidCrawlen')\n",
    "    \n",
    "        \n",
    "    ### Save parsed data\n",
    "    \n",
    "    df[1] = pd.to_numeric(df[1])\n",
    "    df[4] = pd.to_numeric(df[4])\n",
    "    df.loc[df[1].apply(lambda x: ~ (float(x) == np.floor(x))),1] = df[1]*1000\n",
    "    df.columns = ['city','total_cases','new_cases','deaths_per_M','total_deaths','date']\n",
    "    df = df.reindex(['city','total_cases','total_deaths','date'],axis=1)\n",
    "    sheet = gSheets.readSheet('covidCrawlen')\n",
    "    worksheet = sheet.worksheet('data')\n",
    "    for i,r in df.iterrows():\n",
    "        worksheet.append_row(list(r))\n",
    "    print('success' + str(datetime.date.today()))\n",
    "    return df"
   ]
  },
  {
   "cell_type": "code",
   "execution_count": 19,
   "metadata": {},
   "outputs": [],
   "source": [
    "try:\n",
    "    df = scrap2sheet(\n",
    "        'https://www.rki.de/DE/Content/InfAZ/N/Neuartiges_Coronavirus/Fallzahlen.html',\n",
    "        '//*[@id=\"main\"]/div[1]/table/*',\n",
    "        2,\n",
    "        True, \n",
    "        '', \n",
    "        5)\n",
    "except:\n",
    "    print('error' + str(datetime.date.today()))"
   ]
  },
  {
   "cell_type": "code",
   "execution_count": 20,
   "metadata": {},
   "outputs": [
    {
     "data": {
      "text/plain": [
       "'2020-04-10'"
      ]
     },
     "execution_count": 20,
     "metadata": {},
     "output_type": "execute_result"
    }
   ],
   "source": []
  },
  {
   "cell_type": "code",
   "execution_count": null,
   "metadata": {},
   "outputs": [],
   "source": []
  }
 ],
 "metadata": {
  "kernelspec": {
   "display_name": "Python 3",
   "language": "python",
   "name": "python3"
  },
  "language_info": {
   "codemirror_mode": {
    "name": "ipython",
    "version": 3
   },
   "file_extension": ".py",
   "mimetype": "text/x-python",
   "name": "python",
   "nbconvert_exporter": "python",
   "pygments_lexer": "ipython3",
   "version": "3.8.9"
  }
 },
 "nbformat": 4,
 "nbformat_minor": 4
}
